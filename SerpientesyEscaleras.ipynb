{
  "cells": [
    {
      "cell_type": "markdown",
      "metadata": {
        "id": "view-in-github",
        "colab_type": "text"
      },
      "source": [
        "<a href=\"https://colab.research.google.com/github/RaphaelBau/Simulaci-n-/blob/main/SerpientesyEscaleras.ipynb\" target=\"_parent\"><img src=\"https://colab.research.google.com/assets/colab-badge.svg\" alt=\"Open In Colab\"/></a>"
      ]
    },
    {
      "cell_type": "markdown",
      "id": "6b42c75e-4e04-45f4-8adf-7efdef79c16e",
      "metadata": {
        "id": "6b42c75e-4e04-45f4-8adf-7efdef79c16e"
      },
      "source": [
        "# Serpientes y Escaleras\n",
        "\n",
        "\n",
        "Las instrucciones son las tradicionales, se juega con un dado justo de 6 caras.\n",
        "\n",
        "Sea N el número de lanzamientos requerido para alcanzar el final del juego (llegar a la casilla final).\n",
        "\n",
        "# Determinar el valor esperado de N\n",
        "![image.png](attachment:fd2079ae-18ef-449a-9972-c8e8adc4e080.png)"
      ]
    },
    {
      "cell_type": "markdown",
      "id": "7921e81a-0b63-4fcd-bf38-c5bbf6bec072",
      "metadata": {
        "id": "7921e81a-0b63-4fcd-bf38-c5bbf6bec072"
      },
      "source": [
        "## Analíticamente"
      ]
    },
    {
      "cell_type": "markdown",
      "id": "330298be-e86f-4d40-a3e2-94e1d1adab94",
      "metadata": {
        "id": "330298be-e86f-4d40-a3e2-94e1d1adab94"
      },
      "source": [
        "Consideremos la cadena de Markov con espacio de estados $S = \\{0,1,2,3,...,20\\}$, en donde cada estado representa la posición en el tablero, siendo el estado **0** en donde no hemos empezado a jugar.  \n",
        "\n",
        "Consideremos que si me encuentro en la posición **i**, a lo maximo puedo avanzar a **i+6** porque el dado tiene 6 caras, cada una con probabilidad de $\\frac{1}{6}$, considerando que el dado es justo y no esta cargado. Además consideremos que no requerimos que la cantidad de pasos exacta para llegar a la meta, es decir, si se pasa de la casilla **FINAL**, se considerara como **GANADOR**.\n",
        "\n",
        "Es así como la matriz de transición de esta cadena de Markov (sin considerar aun las escaleras y las serpientes) nos quedaria como:\n",
        "\n",
        "\\begin{equation*}\n",
        "P =\n",
        "\\begin{bmatrix}\n",
        "0 & \\frac{1}{6} & \\frac{1}{6} & \\frac{1}{6} & \\frac{1}{6} & \\frac{1}{6} & \\frac{1}{6} & 0  & 0 & 0  & 0 & 0  & 0 & 0  & 0 & 0  & 0 & 0 & 0 & 0 & 0 \\\\\n",
        "0 & 0 & \\frac{1}{6} & \\frac{1}{6} & \\frac{1}{6} & \\frac{1}{6} & \\frac{1}{6} & \\frac{1}{6}  & 0 & 0  & 0 & 0  & 0 & 0  & 0 & 0  & 0 & 0 & 0 & 0 & 0 \\\\\n",
        "0 & 0 & 0 & \\frac{1}{6} & \\frac{1}{6} & \\frac{1}{6} & \\frac{1}{6} & \\frac{1}{6}  & \\frac{1}{6} & 0  & 0 & 0  & 0 & 0  & 0 & 0  & 0 & 0 & 0 & 0 & 0 \\\\\n",
        "0 & 0 & 0 & 0 & \\frac{1}{6} & \\frac{1}{6} & \\frac{1}{6} & \\frac{1}{6}  & \\frac{1}{6} & \\frac{1}{6}  & 0 & 0  & 0 & 0  & 0 & 0  & 0 & 0 & 0 & 0 & 0 \\\\\n",
        "0 & 0 & 0 & 0 & 0 & \\frac{1}{6} & \\frac{1}{6} & \\frac{1}{6}  & \\frac{1}{6} & \\frac{1}{6}  & \\frac{1}{6} & 0  & 0 & 0  & 0 & 0  & 0 & 0 & 0 & 0 & 0 \\\\\n",
        "0 & 0 & 0 & 0 & 0 & 0 & \\frac{1}{6} & \\frac{1}{6} & \\frac{1}{6}  & \\frac{1}{6} & \\frac{1}{6}  & \\frac{1}{6}  & 0 & 0  & 0 & 0  & 0 & 0 & 0 & 0 & 0 \\\\\n",
        "0 & 0  & 0 & 0  & 0 & 0  & 0 &\\frac{1}{6} & \\frac{1}{6} & \\frac{1}{6} & \\frac{1}{6} & \\frac{1}{6} & \\frac{1}{6}& 0  & 0 & 0  & 0 & 0 & 0 & 0 & 0 \\\\\n",
        "0 & 0  & 0 & 0  & 0 & 0  & 0 & 0  & \\frac{1}{6} & \\frac{1}{6} & \\frac{1}{6} & \\frac{1}{6} & \\frac{1}{6} & \\frac{1}{6}& 0 & 0  & 0 & 0 & 0 & 0 & 0 \\\\\n",
        "0 & 0 & 0 & 0  & 0 & 0  & 0 & 0  & 0 & \\frac{1}{6} & \\frac{1}{6} & \\frac{1}{6} & \\frac{1}{6} & \\frac{1}{6} & \\frac{1}{6} & 0 & 0 & 0 & 0 & 0 & 0 \\\\\n",
        "0 & 0  & 0 & 0  & 0 & 0  & 0 & 0  & 0 & 0  & \\frac{1}{6} & \\frac{1}{6} & \\frac{1}{6} & \\frac{1}{6} & \\frac{1}{6} & \\frac{1}{6} & 0 & 0 & 0 & 0 & 0 \\\\\n",
        "0 & 0  & 0 & 0  & 0 & 0  & 0 & 0  & 0 & 0  & 0 & \\frac{1}{6} & \\frac{1}{6} & \\frac{1}{6} & \\frac{1}{6} & \\frac{1}{6} & \\frac{1}{6} & 0 & 0 & 0 & 0 \\\\\n",
        "0 & 0  & 0 & 0  & 0 & 0  & 0 & 0  & 0 & 0  & 0 & 0 & \\frac{1}{6} & \\frac{1}{6} & \\frac{1}{6} & \\frac{1}{6} & \\frac{1}{6} & \\frac{1}{6} & 0 & 0 & 0\\\\\n",
        "0 & 0  & 0 & 0  & 0 & 0  & 0 & 0  & 0 & 0  & 0 & 0 & 0 & \\frac{1}{6} & \\frac{1}{6} & \\frac{1}{6} & \\frac{1}{6} & \\frac{1}{6} & \\frac{1}{6} & 0 & 0 \\\\\n",
        "0 & 0  & 0 & 0  & 0 & 0  & 0 & 0  & 0 & 0  & 0 & 0 & 0 & 0 & \\frac{1}{6} & \\frac{1}{6} & \\frac{1}{6} & \\frac{1}{6} & \\frac{1}{6} & \\frac{1}{6} & 0 \\\\\n",
        "0 & 0  & 0 & 0  & 0 & 0  & 0 & 0  & 0 & 0  & 0 & 0 & 0 & 0 & 0 & \\frac{1}{6} & \\frac{1}{6} & \\frac{1}{6} & \\frac{1}{6} & \\frac{1}{6} & \\frac{1}{6} \\\\\n",
        "0 & 0  & 0 & 0  & 0 & 0  & 0 & 0  & 0 & 0  & 0 & 0 & 0 & 0 & 0 & 0 & \\frac{1}{6} & \\frac{1}{6} & \\frac{1}{6} & \\frac{1}{6} & \\frac{2}{6} \\\\\n",
        "0 & 0  & 0 & 0  & 0 & 0  & 0 & 0  & 0 & 0  & 0 & 0 & 0 & 0 & 0 & 0 & 0 & \\frac{1}{6} & \\frac{1}{6} & \\frac{1}{6} & \\frac{3}{6} \\\\\n",
        "0 & 0  & 0 & 0  & 0 & 0  & 0 & 0  & 0 & 0  & 0 & 0 & 0 & 0 & 0 & 0 & 0 & 0 & \\frac{1}{6} & \\frac{1}{6} & \\frac{4}{6} \\\\\n",
        "0 & 0  & 0 & 0  & 0 & 0  & 0 & 0  & 0 & 0  & 0 & 0 & 0 & 0 & 0 & 0 & 0 & 0 & 0 & \\frac{1}{6} & \\frac{5}{6} \\\\\n",
        "0 & 0  & 0 & 0  & 0 & 0 & 0 & 0  & 0 & 0  & 0 & 0  & 0 & 0  & 0 & 0  & 0 & 0 & 0 & 0 & 1 \\\\\n",
        "0 & 0  & 0 & 0  & 0 & 0 & 0 & 0  & 0 & 0  & 0 & 0  & 0 & 0  & 0 & 0  & 0 & 0 & 0 & 0 & 1 \\\\\n",
        "\\end{bmatrix}\n",
        "\\end{equation*}\n",
        "\n",
        "\n",
        "### A continuacion agregamos las Serpientes y Escaleras\n",
        "Pensemos que estamos en el estado **0**, es decir, apenas comenzara el juego, la probabilidad de que caigamos en el estado **3** viniendo del estado **0** es **$P_{0,3}=\\frac{1}{6}$**, sin embargo, es facil ver que el estado 3 nos conecta directamente al estado **11**, se cambiaria a **$P_{0,3}=0$** y **$P_{0,11}=\\frac{1}{6}$**. Lo mismo ocurriria con las serpientes.\n",
        "\n",
        "Entonces la matriz de transición P considerando las **Serpientes y Escaleras** quedaria de la forma siguiente:\n",
        "\\begin{equation*}\n",
        "P =\n",
        "\\begin{bmatrix}\n",
        "0 & \\frac{1}{6} & \\frac{1}{6} & 0 & \\frac{1}{6} & \\frac{1}{6} & \\frac{1}{6} & 0  & 0 & 0  & 0 & \\frac{1}{6}  & 0 & 0  & 0 & 0  & 0 & 0 & 0 & 0 & 0 \\\\\n",
        "0 & 0 & \\frac{1}{6} & 0 & \\frac{1}{6} & \\frac{1}{6} & \\frac{1}{6} & \\frac{1}{6}  & 0 & 0  & 0 & \\frac{1}{6}  & 0 & 0  & 0 & 0  & 0 & 0 & 0 & 0 & 0 \\\\\n",
        "0 & 0 & 0 & 0 & \\frac{1}{6} & \\frac{1}{6} & \\frac{1}{6} & \\frac{1}{6}  & \\frac{1}{6} & 0  & 0 & \\frac{1}{6}  & 0 & 0  & 0 & 0  & 0 & 0 & 0 & 0 & 0 \\\\\n",
        "0 & 0 & 0 & 0 & \\frac{1}{6} & \\frac{1}{6} & \\frac{1}{6} & \\frac{1}{6}  & \\frac{1}{6} & \\frac{1}{6}  & 0 & 0  & 0 & 0  & 0 & 0  & 0 & 0 & 0 & 0 & 0 \\\\\n",
        "0 & 0 & 0 & 0 & 0 & \\frac{1}{6} & \\frac{1}{6} & \\frac{1}{6}  & \\frac{1}{6} & \\frac{1}{6}  & \\frac{1}{6} & 0  & 0 & 0  & 0 & 0  & 0 & 0 & 0 & 0 & 0 \\\\\n",
        "0 & 0 & 0 & 0 & 0 & 0 & \\frac{1}{6} & \\frac{1}{6} & \\frac{1}{6}  & \\frac{1}{6} & \\frac{1}{6}  & \\frac{1}{6}  & 0 & 0  & 0 & 0  & 0 & 0 & 0 & 0 & 0 \\\\\n",
        "0 & 0  & 0 & 0  & 0 & 0  & 0 &\\frac{1}{6} & \\frac{1}{6} & \\frac{1}{6} & \\frac{1}{6} & \\frac{1}{6} & \\frac{1}{6}& 0  & 0 & 0  & 0 & 0 & 0 & 0 & 0 \\\\\n",
        "0 & 0  & 0 & 0  & \\frac{1}{6} & 0  & 0 & 0  & \\frac{1}{6} & \\frac{1}{6} & \\frac{1}{6} & \\frac{1}{6} & \\frac{1}{6} & 0 & 0 & 0  & 0 & 0 & 0 & 0 & 0 \\\\\n",
        "0 & 0 & 0 & 0  & \\frac{1}{6} & 0  & 0 & 0  & 0 & \\frac{1}{6} & \\frac{1}{6} & \\frac{1}{6} & \\frac{1}{6} & 0 & \\frac{1}{6} & 0 & 0 & 0 & 0 & 0 & 0 \\\\\n",
        "0 & 0  & 0 & 0  & \\frac{1}{6} & 0  & 0 & 0  & 0 & 0  & \\frac{1}{6} & \\frac{1}{6} & \\frac{1}{6} & 0 & \\frac{1}{6} & 0 & 0 & 0 & 0 & \\frac{1}{6} & 0 \\\\\n",
        "0 & 0  & 0 & 0  & \\frac{1}{6} & 0  & 0 & 0  & 0 & 0  & 0 & \\frac{1}{6} & \\frac{1}{6} & 0 & \\frac{1}{6} & 0 & \\frac{1}{6} & 0 & 0 & \\frac{1}{6} & 0 \\\\\n",
        "0 & 0  & 0 & 0  & \\frac{1}{6} & 0  & 0 & 0  & 0 & 0  & \\frac{1}{6} & 0 & \\frac{1}{6} & 0 & \\frac{1}{6} & 0 & \\frac{1}{6} & 0 & 0 & \\frac{1}{6} & 0\\\\\n",
        "0 & 0  & 0 & 0  & \\frac{1}{6} & 0  & 0 & 0  & 0 & 0  & \\frac{1}{6} & 0 & 0 & 0 & \\frac{1}{6} & 0 & \\frac{1}{6} & 0 & \\frac{1}{6} & \\frac{1}{6} & 0 \\\\\n",
        "0 & 0  & 0 & 0  & 0 & 0  & 0 & 0  & 0 & 0  & \\frac{1}{6} & 0 & 0 & 0 & \\frac{1}{6} & 0 & \\frac{1}{6} & 0 & \\frac{1}{6} & \\frac{2}{6} & 0 \\\\\n",
        "0 & 0  & 0 & 0  & 0 & 0  & 0 & 0  & 0 & 0  & \\frac{1}{6} & 0 & 0 & 0 & 0 & 0 & \\frac{1}{6} & 0 & \\frac{1}{6} & \\frac{2}{6} & \\frac{1}{6} \\\\\n",
        "0 & 0  & 0 & 0  & 0 & 0  & 0 & 0  & 0 & 0  & \\frac{1}{6} & 0 & 0 & 0 & 0 & 0 & \\frac{1}{6} & 0 & \\frac{1}{6} & \\frac{1}{6} & \\frac{2}{6} \\\\\n",
        "0 & 0  & 0 & 0  & 0 & 0  & 0 & 0  & 0 & 0  & \\frac{1}{6} & 0 & 0 & 0 & 0 & 0 & 0 & 0 & \\frac{1}{6} & \\frac{1}{6} & \\frac{3}{6} \\\\\n",
        "0 & 0  & 0 & 0  & 0 & 0  & 0 & 0  & 0 & 0  & 0 & 0 & 0 & 0 & 0 & 0 & 0 & 0 & \\frac{1}{6} & \\frac{1}{6} & \\frac{4}{6} \\\\\n",
        "0 & 0  & 0 & 0  & 0 & 0  & 0 & 0  & 0 & 0  & 0 & 0 & 0 & 0 & 0 & 0 & 0 & 0 & 0 & \\frac{1}{6} & \\frac{5}{6} \\\\\n",
        "0 & 0  & 0 & 0  & 0 & 0 & 0 & 0  & 0 & 0  & 0 & 0  & 0 & 0  & 0 & 0  & 0 & 0 & 0 & 0 & 1 \\\\\n",
        "0 & 0  & 0 & 0  & 0 & 0 & 0 & 0  & 0 & 0  & 0 & 0  & 0 & 0  & 0 & 0  & 0 & 0 & 0 & 0 & 1 \\\\\n",
        "\\end{bmatrix}\n",
        "\\end{equation*}\n",
        "\n"
      ]
    },
    {
      "cell_type": "markdown",
      "id": "b598846c-d419-427d-95f7-209436f85a64",
      "metadata": {
        "id": "b598846c-d419-427d-95f7-209436f85a64"
      },
      "source": [
        "Consideremos que una cadena de Markov se llama **absorbente** si tiene al menos un estado absorbente.\n",
        "\n",
        "Es fácil ver que la cadena de Markov asociada al juego mencionado tiene un estado absorbente. Si estoy en el estado **20**, la probabilidad es \\(P_{20,20}=1\\), ya que si llego a la última casilla, no importa si vuelvo a tirar el dado, ya he ganado y seguiré en ese estado.\n",
        "\n",
        "Dado lo anterior, podemos ver la matriz **P** de la siguiente manera:\n",
        "\\begin{equation*}\n",
        "P =\n",
        "\\begin{bmatrix}\n",
        "\\textbf{Q} & \\textbf{R} \\\\\n",
        "\\textbf{0} & \\textbf{I} \\\\\n",
        "\\end{bmatrix}\n",
        "\\end{equation*}\n",
        "\n",
        "Sea\n",
        "\\begin{equation*}\n",
        "S = (\\textbf{I}-\\textbf{Q})^{-1}\n",
        "\\end{equation*}\n",
        "en donde $S_{i,j}$ denota el númerom esperado de visitas al estado j dado que la cadena de Markov inicia en el estado i. Considerando que la matriz **Q** es una matriz $txt$ en donde **t := la cantidad de estados transitorios**.\n",
        "\n",
        "\n",
        "Para determinar la cantidad de lanzamientos requeridos para ganar el juego basta con sumar la primer fila de **S**, ya que cada entrada **$S_{0,j}$**   nos daria la cantidad de lanzamientos totales que estariamos en el estado **j** (transitorios) viniendo del estado **0**, es decir, al sumar todas las entradas obtendriamos la cantidad de lanzmaientos antes de llegar al estado **absorbente**, o sea, **GANAR**.\n",
        "\n",
        "\n",
        "\n",
        "Por practicidad, obtendremos la matriz **S** con ayuda de la herramienta de programación que se muestra a continuación."
      ]
    },
    {
      "cell_type": "code",
      "execution_count": null,
      "id": "a07815a6-85a0-47f8-b631-2312d267cbe4",
      "metadata": {
        "id": "a07815a6-85a0-47f8-b631-2312d267cbe4",
        "outputId": "2e5553b4-fa2b-481f-a61a-419bd6ec5dba"
      },
      "outputs": [
        {
          "name": "stdout",
          "output_type": "stream",
          "text": [
            "Matriz S:\n",
            "[[1.         0.16666667 0.19444444 0.         0.6817699  0.34048017\n",
            "  0.39722686 0.29676467 0.31844767 0.33911488 0.7025546  0.62594999\n",
            "  0.44667645 0.         0.40545726 0.         0.36343972 0.\n",
            "  0.20259557 0.58187429]\n",
            " [0.         1.         0.16666667 0.         0.66897572 0.3059404\n",
            "  0.35693046 0.41641888 0.31915535 0.34457014 0.70659871 0.60271343\n",
            "  0.45773116 0.         0.40512813 0.         0.36202857 0.\n",
            "  0.20414798 0.58134104]\n",
            " [0.         0.         1.         0.         0.64747173 0.27457862\n",
            "  0.32034173 0.37373201 0.43602068 0.34202413 0.70061912 0.57455272\n",
            "  0.45788173 0.         0.4185164  0.         0.358595   0.\n",
            "  0.20583219 0.57942295]\n",
            " [0.         0.         0.         1.         0.65650392 0.27608399\n",
            "  0.32209799 0.37578098 0.43841115 0.51147967 0.70871567 0.43876157\n",
            "  0.4658745  0.         0.42720709 0.         0.34009314 0.\n",
            "  0.20552912 0.58747798]\n",
            " [0.         0.         0.         0.         1.47560203 0.24593367\n",
            "  0.28692262 0.33474305 0.39053356 0.45562249 0.80437659 0.41968866\n",
            "  0.44864783 0.         0.41981152 0.         0.3487541  0.\n",
            "  0.20286891 0.58659694]\n",
            " [0.         0.         0.         0.         0.46340041 1.0772334\n",
            "  0.2567723  0.29956769 0.34949563 0.40774491 0.76392269 0.52578944\n",
            "  0.43388211 0.         0.41347246 0.         0.35617778 0.\n",
            "  0.20058873 0.58584176]\n",
            " [0.         0.         0.         0.         0.4449788  0.07416313\n",
            "  1.08652366 0.26761093 0.31221275 0.36424821 0.71861119 0.47056165\n",
            "  0.53662807 0.         0.40037698 0.         0.35436298 0.\n",
            "  0.215228   0.57673234]\n",
            " [0.         0.         0.         0.         0.59221069 0.09870178\n",
            "  0.11515208 1.13434409 0.32340144 0.37730168 0.73086339 0.46329408\n",
            "  0.52405946 0.         0.40315334 0.         0.35356171 0.\n",
            "  0.21346242 0.57814157]\n",
            " [0.         0.         0.         0.         0.51844779 0.08640797\n",
            "  0.10080929 0.11761084 1.13721265 0.32674809 0.66474162 0.40558841\n",
            "  0.45878515 0.         0.49884599 0.         0.33799353 0.\n",
            "  0.21593744 0.56791437]\n",
            " [0.         0.         0.         0.         0.44438382 0.07406397\n",
            "  0.08640797 0.10080929 0.11761084 1.13721265 0.56977853 0.34764721\n",
            "  0.39324441 0.         0.42758227 0.         0.28970874 0.\n",
            "  0.18508924 0.62964089]\n",
            " [0.         0.         0.         0.         0.39019067 0.06503178\n",
            "  0.07587041 0.08851548 0.10326806 0.1204794  1.37834212 0.30525121\n",
            "  0.34528778 0.         0.37543809 0.         0.40071987 0.\n",
            "  0.18690762 0.5813107 ]\n",
            " [0.         0.         0.         0.         0.39019067 0.06503178\n",
            "  0.07587041 0.08851548 0.10326806 0.1204794  0.52119927 1.16239406\n",
            "  0.34528778 0.         0.37543809 0.         0.40071987 0.\n",
            "  0.18690762 0.5813107 ]\n",
            " [0.         0.         0.         0.         0.33444915 0.05574152\n",
            "  0.06503178 0.07587041 0.08851548 0.10326806 0.44674223 0.13919491\n",
            "  1.15310381 0.         0.32180408 0.         0.34347417 0.\n",
            "  0.30306368 0.52207584]\n",
            " [0.         0.         0.         0.         0.08851548 0.01475258\n",
            "  0.01721134 0.0200799  0.02342655 0.02733097 0.31267946 0.0692468\n",
            "  0.07832917 1.         0.25183549 0.         0.28534849 0.\n",
            "  0.26925219 0.59097635]\n",
            " [0.         0.         0.         0.         0.07587041 0.01264507\n",
            "  0.01475258 0.01721134 0.0200799  0.02342655 0.26801097 0.0593544\n",
            "  0.06713929 0.         1.07300185 0.         0.24458442 0.\n",
            "  0.23078759 0.50655115]\n",
            " [0.         0.         0.         0.         0.07587041 0.01264507\n",
            "  0.01475258 0.01721134 0.0200799  0.02342655 0.26801097 0.0593544\n",
            "  0.06713929 0.         0.07300185 1.         0.24458442 0.\n",
            "  0.23078759 0.33988449]\n",
            " [0.         0.         0.         0.         0.06503178 0.01083863\n",
            "  0.01264507 0.01475258 0.01721134 0.0200799  0.22972369 0.0508752\n",
            "  0.05754796 0.         0.06257302 0.         1.06678664 0.\n",
            "  0.19781794 0.29132956]\n",
            " [0.         0.         0.         0.         0.         0.\n",
            "  0.         0.         0.         0.         0.         0.\n",
            "  0.         0.         0.         0.         0.         1.\n",
            "  0.16666667 0.19444444]\n",
            " [0.         0.         0.         0.         0.         0.\n",
            "  0.         0.         0.         0.         0.         0.\n",
            "  0.         0.         0.         0.         0.         0.\n",
            "  1.         0.16666667]\n",
            " [0.         0.         0.         0.         0.         0.\n",
            "  0.         0.         0.         0.         0.         0.\n",
            "  0.         0.         0.         0.         0.         0.\n",
            "  0.         1.        ]]\n",
            "La cantidad de juegos (N) esperado para ganar el juego es:  7.063463136579042\n"
          ]
        }
      ],
      "source": [
        "import numpy as np\n",
        "import pandas as pd\n",
        "\n",
        "# Definimos la matriz de transición\n",
        "P = np.zeros((21, 21))\n",
        "\n",
        "esca = [3, 15]  # Caemos en esta casilla\n",
        "sube = [11, 19]  # Nos manda a la casilla correspondiente\n",
        "\n",
        "serp = [13, 17]  # Caemos en la cola de la serpiente\n",
        "baja = [4, 10]  # Nos manda a la cabeza correspondiente\n",
        "\n",
        "# Llenamos la matriz de valores\n",
        "for i in range(21):\n",
        "    for j in range(21):\n",
        "        if j > i and j <= i + 6:\n",
        "            P[i, j] = 1/6\n",
        "        else:\n",
        "            P[i, j] = 0\n",
        "\n",
        "\n",
        "for i in range(21):\n",
        "    for j in range(21):\n",
        "        if P[i, j] != 0:\n",
        "            for k in range(2):\n",
        "                if j == esca[k] :\n",
        "                    P[i, j] = 0\n",
        "                    P[i, sube[k]] = 1/6\n",
        "                elif j == serp[k] :\n",
        "                    P[i, j] = 0\n",
        "                    P[i, baja[k]] = 1/6\n",
        "P[13,19]=2/6\n",
        "P[14,19]=2/6\n",
        "P[15,20]=2/6\n",
        "P[16,20]=3/6\n",
        "P[17,20]=4/6\n",
        "P[18,20]=5/6\n",
        "P[19,20]=1\n",
        "P[20, 20] = 1\n",
        "#print(P)\n",
        "\n",
        "\n",
        "\n",
        "# Obtenemos Q excluyendo la ultima fila y columna de P\n",
        "Q = P[0:20, 0:20]\n",
        "I = np.identity(Q.shape[0])  # Matriz identidad del mismo tamaño que Q\n",
        "# Calculamos I - Q\n",
        "A = I - Q\n",
        "S = np.linalg.inv(A)\n",
        "print(\"Matriz S:\")\n",
        "print(S)\n",
        "\n",
        "N_esperado = np.sum(S[0, :])\n",
        "print(\"La cantidad de juegos (N) esperado para ganar el juego es: \", N_esperado)"
      ]
    },
    {
      "cell_type": "markdown",
      "id": "5b64fbb9-c897-41c0-a652-09d5e6d5877f",
      "metadata": {
        "id": "5b64fbb9-c897-41c0-a652-09d5e6d5877f"
      },
      "source": [
        "## Simulación de Serpientes y escaleras"
      ]
    },
    {
      "cell_type": "code",
      "execution_count": 3,
      "id": "64797e6a-cc24-4d47-ac92-b4b7f88424b9",
      "metadata": {
        "id": "64797e6a-cc24-4d47-ac92-b4b7f88424b9",
        "outputId": "45ee67b9-53d6-4045-a104-075d64ca72eb",
        "colab": {
          "base_uri": "https://localhost:8080/"
        }
      },
      "outputs": [
        {
          "output_type": "stream",
          "name": "stdout",
          "text": [
            "La cantidad de lanzamientos esperados (N) para ganar el juego es:  7.05\n"
          ]
        }
      ],
      "source": [
        "import random\n",
        "\n",
        "N = 50000\n",
        "victoria = 20\n",
        "N_esperado = []\n",
        "\n",
        "for j in range(21):\n",
        "    tiros = []\n",
        "    for i in range(1, N + 1):\n",
        "        posicion = j\n",
        "        contador = 0\n",
        "        while posicion < victoria:\n",
        "            dado = random.randint(1, 6)\n",
        "            posicion += dado\n",
        "            if posicion == 3:\n",
        "                posicion = 11\n",
        "            if posicion == 15:\n",
        "                posicion = 19\n",
        "            if posicion == 17:\n",
        "                posicion = 10\n",
        "            if posicion == 13:\n",
        "                posicion = 4\n",
        "            contador += 1\n",
        "        tiros.append(contador)\n",
        "\n",
        "    N_esperado.append(sum(tiros) / N)\n",
        "\n",
        "print(\"La cantidad de lanzamientos esperados (N) para ganar el juego es: \", round(N_esperado[0],2))"
      ]
    },
    {
      "cell_type": "code",
      "execution_count": 4,
      "id": "3d1084a9-e8a1-4739-bf2d-871ec4a67245",
      "metadata": {
        "id": "3d1084a9-e8a1-4739-bf2d-871ec4a67245",
        "outputId": "2edff335-e618-4f16-e23f-dcc577d58e41",
        "colab": {
          "base_uri": "https://localhost:8080/"
        }
      },
      "outputs": [
        {
          "output_type": "stream",
          "name": "stdout",
          "text": [
            "La cantidad de lanzamientos esperados (N) para ganar el juego es:  7.08\n"
          ]
        }
      ],
      "source": [
        "import random\n",
        "\n",
        "N = 50000\n",
        "victoria = 20\n",
        "N_esperado = []\n",
        "esca = [3, 15]  # Caemos en esta casilla\n",
        "sube = [11, 19]  # Nos manda a la casilla correspondiente\n",
        "\n",
        "serp = [13, 17]  # Caemos en la cola de la serpiente\n",
        "baja = [4, 10]  # Nos manda a la cabeza correspondiente\n",
        "\n",
        "for j in range(21):\n",
        "    tiros = []\n",
        "    for i in range(1, N + 1):\n",
        "        posicion = j\n",
        "        contador = 0\n",
        "        while posicion < victoria:\n",
        "            dado = random.randint(1, 6)\n",
        "            posicion += dado\n",
        "            for k in range(2):\n",
        "                if posicion == esca[k] :\n",
        "                    posicion = sube[k]\n",
        "                elif posicion == serp[k] :\n",
        "                    posicion = baja[k]\n",
        "            contador += 1\n",
        "        tiros.append(contador)\n",
        "\n",
        "    N_esperado.append(sum(tiros) / N)\n",
        "\n",
        "print(\"La cantidad de lanzamientos esperados (N) para ganar el juego es: \", round(N_esperado[0],2))"
      ]
    },
    {
      "cell_type": "markdown",
      "id": "28a5365e-1dae-44ec-971a-f3656a71c6d5",
      "metadata": {
        "id": "28a5365e-1dae-44ec-971a-f3656a71c6d5"
      },
      "source": [
        "# Conclusiones\n",
        "Como hemos podido observar, la solución mediante simulación resulta considerablemente más sencilla que la solución analítica. Además, la diferencia entre la solución obtenida por simulación y la solución analítica es mínima. Específicamente en este ejercicio, la simulación fue más accesible para nosotros, mientras que la solución analítica requiere un mayor dominio de procesos estocásticos, especialmente en lo que respecta a cadenas de Markov y la matriz fundamental, entre otros aspectos. Es importante destacar que la obtención de la matriz S se realizó con la ayuda de herramientas de programación, ya que calcularla manualmente habría implicado demasiado tiempo. Este hecho resalta otro punto importante a favor de la simulación: en muchas ocasiones, la teoría por sí sola no es suficiente o resulta demasiado compleja y difícil de comprender, mientras que la simulación facilita este proceso."
      ]
    },
    {
      "cell_type": "markdown",
      "id": "9fe6fe9b-9fd9-4249-86e7-26f5da14ee7e",
      "metadata": {
        "id": "9fe6fe9b-9fd9-4249-86e7-26f5da14ee7e"
      },
      "source": [
        "# Serpientes y escaleras de 100 casillas ANALÍTICA"
      ]
    },
    {
      "cell_type": "code",
      "execution_count": 8,
      "id": "2203d1a0-fc26-4157-8dba-5551866a6055",
      "metadata": {
        "id": "2203d1a0-fc26-4157-8dba-5551866a6055",
        "outputId": "44e94da8-ca1d-49ad-84fd-9ff9c30029b6",
        "colab": {
          "base_uri": "https://localhost:8080/"
        }
      },
      "outputs": [
        {
          "output_type": "stream",
          "name": "stdout",
          "text": [
            "Matriz S:\n",
            "[[1.         0.         0.16666667 ... 0.27987985 0.         0.16015443]\n",
            " [0.         1.         0.16666667 ... 0.28052781 0.         0.16086565]\n",
            " [0.         0.         1.         ... 0.28054875 0.         0.16088874]\n",
            " ...\n",
            " [0.         0.         0.         ... 1.04084309 0.         0.19110876]\n",
            " [0.         0.         0.         ... 0.         1.         0.16666667]\n",
            " [0.         0.         0.         ... 0.         0.         1.        ]]\n",
            "La cantidad de juegos (N) esperado para ganar el juego es:  36.19\n"
          ]
        }
      ],
      "source": [
        "import numpy as np\n",
        "import pandas as pd\n",
        "\n",
        "# Definimos la matriz de transición\n",
        "P = np.zeros((101, 101))\n",
        "\n",
        "esca = [1,3,4,9,21,28,36,51,71,80] #Caemos en esta casilla\n",
        "sube = [38,3,14,31,42,84,44,67,91,100] #Nos manda a la casilla correspondiente\n",
        "\n",
        "serp = [16, 49, 62, 87, 48, 56, 64, 93, 95, 98] #Caemos en la cola de la serpiente\n",
        "baja = [6, 11, 19, 24, 26, 53, 60, 73, 75, 78] #Nos manda a la cabeza correspindiente\n",
        "#Ejemplo, si caigo en la 96, me manda a la 69. Si caigo en la 18, me manda a su\n",
        "#correspondiente que es 6.\n",
        "\n",
        "# Llenamos la matriz de valores\n",
        "for i in range(101):\n",
        "    for j in range(101):\n",
        "        if j > i and j <= i + 6:\n",
        "            P[i, j] = 1/6\n",
        "        else:\n",
        "            P[i, j] = 0\n",
        "\n",
        "\n",
        "for i in range(101):\n",
        "    for j in range(101):\n",
        "        if P[i, j] != 0:\n",
        "            for k in range(10):\n",
        "                if j == esca[k] :\n",
        "                    P[i, j] = 0\n",
        "                    P[i, sube[k]] = 1/6\n",
        "                elif j == serp[k] :\n",
        "                    P[i, j] = 0\n",
        "                    P[i, baja[k]] = 1/6\n",
        "P[50,53]=2/6\n",
        "P[51,53]=2/6\n",
        "P[52,53]=2/6\n",
        "P[58,60]=2/6\n",
        "P[59,60]=2/6\n",
        "\n",
        "#P[14,19]=2/6\n",
        "\n",
        "\n",
        "P[95,100]=2/6\n",
        "P[96,100]=3/6\n",
        "P[97,100]=4/6\n",
        "P[98,100]=5/6\n",
        "P[99,100]=1\n",
        "P[100, 100] = 1\n",
        "\n",
        "\n",
        "\n",
        "# Obtenemos Q excluyendo la ultima fila y columna de P\n",
        "Q = P[0:100, 0:100]\n",
        "I = np.identity(Q.shape[0])  # Matriz identidad del mismo tamaño que Q\n",
        "# Calculamos I - Q\n",
        "A = I - Q\n",
        "S = np.linalg.inv(A)\n",
        "print(\"Matriz S:\")\n",
        "print(S)\n",
        "\n",
        "N_esperado = np.sum(S[0, :])\n",
        "print(\"La cantidad de juegos (N) esperado para ganar el juego es: \", round(N_esperado, 2))"
      ]
    },
    {
      "cell_type": "code",
      "execution_count": 9,
      "id": "0b80ad4d-12d1-44fe-84bf-eff22581740c",
      "metadata": {
        "id": "0b80ad4d-12d1-44fe-84bf-eff22581740c"
      },
      "outputs": [],
      "source": [
        "def suma_filas(matriz):\n",
        "    sumas = []\n",
        "    for fila in matriz:\n",
        "        suma_fila = sum(fila)\n",
        "        sumas.append(suma_fila)\n",
        "    return sumas\n",
        "\n",
        "# Ejemplo de una matriz de entradas\n",
        "\n",
        "# Calcular la suma de cada fila\n",
        "sumas_filas = suma_filas(P)\n",
        "\n",
        "# Imprimir los resultados\n",
        "#for i, suma in enumerate(sumas_filas):\n",
        "    #print(\"La suma de la fila\", i, \"es:\", suma)"
      ]
    },
    {
      "cell_type": "markdown",
      "id": "dc931b97-cb55-4741-96bc-f39b800d22b7",
      "metadata": {
        "id": "dc931b97-cb55-4741-96bc-f39b800d22b7"
      },
      "source": [
        "# Serpientes y escaleras de 100 casillas SIMULACIÓN"
      ]
    },
    {
      "cell_type": "code",
      "execution_count": 10,
      "id": "c934e24f-14ba-4ec1-807b-c8f68cc35060",
      "metadata": {
        "id": "c934e24f-14ba-4ec1-807b-c8f68cc35060",
        "outputId": "a8a5f3c2-c9b6-4ac9-9b25-75423a0b04c6",
        "colab": {
          "base_uri": "https://localhost:8080/"
        }
      },
      "outputs": [
        {
          "output_type": "stream",
          "name": "stdout",
          "text": [
            "La cantidad de lanzamientos esperados (N) para ganar el juego es:  36.02\n"
          ]
        }
      ],
      "source": [
        "import random\n",
        "\n",
        "N = 50000\n",
        "victoria = 100\n",
        "N_esperado = []\n",
        "esca = [1,3,4,9,21,28,36,51,71,80] #Caemos en esta casilla\n",
        "sube = [38,3,14,31,42,84,44,67,91,100] #Nos manda a la casilla correspondiente\n",
        "\n",
        "serp = [16, 49, 62, 87, 48, 56, 64, 93, 95, 98] #Caemos en la cola de la serpiente\n",
        "baja = [6, 11, 19, 24, 26, 53, 60, 73, 75, 78] #Nos manda a la cabeza correspindiente\n",
        "#Ejemplo, si caigo en la 96, me manda a la 69. Si caigo en la 18, me manda a su\n",
        "#correspondiente que es 6.\n",
        "\n",
        "for j in range(100):\n",
        "    tiros = []\n",
        "    for i in range(1, N + 1):\n",
        "        posicion = j\n",
        "        contador = 0\n",
        "        while posicion < victoria:\n",
        "            dado = random.randint(1, 6)\n",
        "            posicion += dado\n",
        "            for k in range(10):\n",
        "                if posicion == esca[k] :\n",
        "                    posicion = sube[k]\n",
        "                elif posicion == serp[k] :\n",
        "                    posicion = baja[k]\n",
        "            contador += 1\n",
        "        tiros.append(contador)\n",
        "\n",
        "    N_esperado.append(sum(tiros) / N)\n",
        "\n",
        "print(\"La cantidad de lanzamientos esperados (N) para ganar el juego es: \", round(N_esperado[0], 2))"
      ]
    }
  ],
  "metadata": {
    "kernelspec": {
      "display_name": "Python 3 (ipykernel)",
      "language": "python",
      "name": "python3"
    },
    "language_info": {
      "codemirror_mode": {
        "name": "ipython",
        "version": 3
      },
      "file_extension": ".py",
      "mimetype": "text/x-python",
      "name": "python",
      "nbconvert_exporter": "python",
      "pygments_lexer": "ipython3",
      "version": "3.11.7"
    },
    "colab": {
      "provenance": [],
      "include_colab_link": true
    }
  },
  "nbformat": 4,
  "nbformat_minor": 5
}