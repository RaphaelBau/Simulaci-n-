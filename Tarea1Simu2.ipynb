{
  "nbformat": 4,
  "nbformat_minor": 0,
  "metadata": {
    "colab": {
      "provenance": [],
      "authorship_tag": "ABX9TyMZndYPQdkvp/6YZZ7jtT8X",
      "include_colab_link": true
    },
    "kernelspec": {
      "name": "python3",
      "display_name": "Python 3"
    },
    "language_info": {
      "name": "python"
    }
  },
  "cells": [
    {
      "cell_type": "markdown",
      "metadata": {
        "id": "view-in-github",
        "colab_type": "text"
      },
      "source": [
        "<a href=\"https://colab.research.google.com/github/RaphaelBau/Simulaci-n-/blob/main/Tarea1Simu2.ipynb\" target=\"_parent\"><img src=\"https://colab.research.google.com/assets/colab-badge.svg\" alt=\"Open In Colab\"/></a>"
      ]
    },
    {
      "cell_type": "code",
      "source": [
        "def sumaListas(a,b):\n",
        "    s = []\n",
        "    for i in range(len(a)):\n",
        "        s.append(a[i]-b[i])\n",
        "    return s"
      ],
      "metadata": {
        "id": "2wPpikU1YyyJ"
      },
      "execution_count": 55,
      "outputs": []
    },
    {
      "cell_type": "code",
      "source": [
        "def cuadrado(c,d):\n",
        "  t= []\n",
        "  for j in range(len(c)):\n",
        "      t.append(c[j]*c[j]/d[j])\n",
        "  return t"
      ],
      "metadata": {
        "id": "oyy3Shm7Y4Tl"
      },
      "execution_count": 56,
      "outputs": []
    },
    {
      "cell_type": "markdown",
      "source": [
        "Ejercicio 3"
      ],
      "metadata": {
        "id": "oT8QkhkGZSXD"
      }
    },
    {
      "cell_type": "code",
      "source": [
        "O= [9, 7, 9, 7, 8]\n",
        "E= [8, 8, 8, 8, 8]\n",
        "\n",
        "x =sumaListas(O, E)\n",
        "print(x)\n",
        "y =cuadrado(x,E)\n",
        "print(y)\n",
        "p= sum(y)\n",
        "print(p)\n",
        "\n",
        "df= 3\n",
        "# interpretacion de z\n",
        "#para una aceptacion del 95%\n",
        "z = 0.711\n",
        "print(\"p value es \" + str(p))\n",
        "if p<= z:\n",
        "    print('Es Independiente (No se rechaza H0)')\n",
        "else:\n",
        "    print('Es Dependiente (Se rechaza H0)')\n",
        ""
      ],
      "metadata": {
        "colab": {
          "base_uri": "https://localhost:8080/"
        },
        "id": "4GH4wnJbZMaq",
        "outputId": "5d574ae7-b359-4631-b651-f25732ef24f2"
      },
      "execution_count": 61,
      "outputs": [
        {
          "output_type": "stream",
          "name": "stdout",
          "text": [
            "[1, -1, 1, -1, 0]\n",
            "[0.125, 0.125, 0.125, 0.125, 0.0]\n",
            "0.5\n",
            "p value es 0.5\n",
            "Es Independiente (No se rechaza H0)\n"
          ]
        }
      ]
    },
    {
      "cell_type": "markdown",
      "source": [
        "Ejercicio 4"
      ],
      "metadata": {
        "id": "kYipbEcebZvr"
      }
    },
    {
      "cell_type": "code",
      "source": [
        "O2= [6, 12, 13, 7, 12]\n",
        "E2= [10, 10, 10, 10, 10]\n",
        "\n",
        "x2 =sumaListas(O2, E2)\n",
        "print(x2)\n",
        "y2 =cuadrado(x2,E2)\n",
        "print(y2)\n",
        "p2= sum(y2)\n",
        "\n",
        "df= 4\n",
        "# interpretacion de z\n",
        "#para una aceptacion del 95%\n",
        "z2 = 0.711\n",
        "print(\"p value es \" + str(p2))\n",
        "if p2 <= z:\n",
        "    print('Es Independiente (No se rechaza H0)')\n",
        "else:\n",
        "    print('Es Dependiente (Se rechaza H0)')\n",
        ""
      ],
      "metadata": {
        "id": "af_A-BfdbfyZ",
        "outputId": "72ca7878-039a-48f2-d11b-f2065c8004bf",
        "colab": {
          "base_uri": "https://localhost:8080/"
        }
      },
      "execution_count": 62,
      "outputs": [
        {
          "output_type": "stream",
          "name": "stdout",
          "text": [
            "[-4, 2, 3, -3, 2]\n",
            "[1.6, 0.4, 0.9, 0.9, 0.4]\n",
            "p value es 4.2\n",
            "Es Dependiente (Se rechaza H0)\n"
          ]
        }
      ]
    }
  ]
}