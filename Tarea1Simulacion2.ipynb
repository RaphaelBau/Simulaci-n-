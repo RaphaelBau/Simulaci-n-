{
  "nbformat": 4,
  "nbformat_minor": 0,
  "metadata": {
    "colab": {
      "provenance": [],
      "authorship_tag": "ABX9TyMr1hIprz+Jd0DqgXFBizsU",
      "include_colab_link": true
    },
    "kernelspec": {
      "name": "python3",
      "display_name": "Python 3"
    },
    "language_info": {
      "name": "python"
    }
  },
  "cells": [
    {
      "cell_type": "markdown",
      "metadata": {
        "id": "view-in-github",
        "colab_type": "text"
      },
      "source": [
        "<a href=\"https://colab.research.google.com/github/RaphaelBau/Simulaci-n-/blob/main/Tarea1Simulacion2.ipynb\" target=\"_parent\"><img src=\"https://colab.research.google.com/assets/colab-badge.svg\" alt=\"Open In Colab\"/></a>"
      ]
    },
    {
      "cell_type": "code",
      "execution_count": 5,
      "metadata": {
        "colab": {
          "base_uri": "https://localhost:8080/"
        },
        "id": "5a9JG-RtlPYl",
        "outputId": "ec1d832e-eadd-4c45-d14e-64dd9dd45878"
      },
      "outputs": [
        {
          "output_type": "stream",
          "name": "stdout",
          "text": [
            "p value es 3.21149413443044e-88\n",
            "Es Dependiente (Se rechaza H0)\n"
          ]
        }
      ],
      "source": [
        "from scipy.stats import chi2_contingency\n",
        "\n",
        "# definimos la tabla\n",
        "data = [[38, 33, 25, 5, 69, 35, 98, 52, 12, 79], [50, 46, 95, 42, 49, 11, 78, 34, 2, 43], [7, 50, 5, 91, 77, 18, 21, 4, 17, 62], [91, 36, 48, 88, 52, 76, 99, 73, 82, 90]]\n",
        "stat, p, dof, expected = chi2_contingency(data)\n",
        "\n",
        "# interpretacion de p-value\n",
        "alpha = 0.05\n",
        "print(\"p value es \" + str(p))\n",
        "if p <= alpha:\n",
        "    print('Es Dependiente (Se rechaza H0)')\n",
        "else:\n",
        "    print('Es Independiente (Se acepta H0)')"
      ]
    },
    {
      "cell_type": "code",
      "source": [
        "from scipy.stats import chi2_contingency\n",
        "\n",
        "# definimos la tabla\n",
        "data = [[.8797, .3884, .6289, .8750, .5999, .8589, .9996, .2415, .3808, .9606],\n",
        "[.9848, .3469, 7977, .5844, .8147, .6431, .7387, .5613, .0318, .7401],\n",
        "[.4557, .1592, .8536, .8846, .3410, .1492, .8681, .5291, .3188, .5992],\n",
        "[.9170, .2204, .5991, .5461, .5739, .3254, .0856, .2258, .4603, .5027],\n",
        "[.8376, .6235, .3681, .2088, .1525, .2006, .4720, .4272, .6360, .0954]]\n",
        "stat, p, dof, expected = chi2_contingency(data)\n",
        "\n",
        "# interpretacion de p-\n",
        "alpha = 0.05\n",
        "print(\"p value es \" + str(p))\n",
        "if p <= alpha:\n",
        "    print('Es Dependiente (Se rechaza H0)')\n",
        "else:\n",
        "    print('Es Independiente (Se acepta H0)')"
      ],
      "metadata": {
        "colab": {
          "base_uri": "https://localhost:8080/"
        },
        "id": "5O5JtyTDpqfx",
        "outputId": "2f2ec0ba-823f-4e57-ef85-fb632c2af72b"
      },
      "execution_count": 6,
      "outputs": [
        {
          "output_type": "stream",
          "name": "stdout",
          "text": [
            "p value es 0.0\n",
            "Es Dependiente (Se rechaza H0)\n"
          ]
        }
      ]
    },
    {
      "cell_type": "code",
      "source": [
        "expected"
      ],
      "metadata": {
        "colab": {
          "base_uri": "https://localhost:8080/"
        },
        "id": "WQ-rBYAWsE-F",
        "outputId": "f6715fdb-1efa-449e-9157-3e954c21b9a0"
      },
      "execution_count": 10,
      "outputs": [
        {
          "output_type": "execute_result",
          "data": {
            "text/plain": [
              "array([[3.46909871e-03, 1.47999441e-03, 6.79333923e+00, 2.63826200e-03,\n",
              "        2.11306150e-03, 1.85356870e-03, 2.69368517e-03, 1.68985325e-03,\n",
              "        1.55602035e-03, 2.46722491e-03],\n",
              "       [4.06438766e+00, 1.73395787e+00, 7.95905981e+03, 3.09098138e+00,\n",
              "        2.47565775e+00, 2.17163660e+00, 3.15591503e+00, 1.97982798e+00,\n",
              "        1.82302968e+00, 2.89059474e+00],\n",
              "       [2.62653130e-03, 1.12053647e-03, 5.14338726e+00, 1.99748647e-03,\n",
              "        1.59984556e-03, 1.40337782e-03, 2.03944857e-03, 1.27942524e-03,\n",
              "        1.17809739e-03, 1.86799051e-03],\n",
              "       [2.26899514e-03, 9.68003621e-04, 4.44324448e+00, 1.72557894e-03,\n",
              "        1.38206684e-03, 1.21234324e-03, 1.76182896e-03, 1.10526368e-03,\n",
              "        1.01772907e-03, 1.61371059e-03],\n",
              "       [2.04771173e-03, 8.73599211e-04, 4.00991772e+00, 1.55729210e-03,\n",
              "        1.24728097e-03, 1.09410964e-03, 1.59000685e-03, 9.97473006e-04,\n",
              "        9.18475194e-04, 1.45633371e-03]])"
            ]
          },
          "metadata": {},
          "execution_count": 10
        }
      ]
    },
    {
      "cell_type": "code",
      "source": [],
      "metadata": {
        "id": "ixK8wPjAsDyA"
      },
      "execution_count": null,
      "outputs": []
    }
  ]
}