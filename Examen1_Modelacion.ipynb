{
  "nbformat": 4,
  "nbformat_minor": 0,
  "metadata": {
    "colab": {
      "provenance": [],
      "authorship_tag": "ABX9TyP56gp2EnMnIHcD+oEzEQcW",
      "include_colab_link": true
    },
    "kernelspec": {
      "name": "python3",
      "display_name": "Python 3"
    },
    "language_info": {
      "name": "python"
    }
  },
  "cells": [
    {
      "cell_type": "markdown",
      "metadata": {
        "id": "view-in-github",
        "colab_type": "text"
      },
      "source": [
        "<a href=\"https://colab.research.google.com/github/RaphaelBau/Simulaci-n-/blob/main/Examen1_Modelacion.ipynb\" target=\"_parent\"><img src=\"https://colab.research.google.com/assets/colab-badge.svg\" alt=\"Open In Colab\"/></a>"
      ]
    },
    {
      "cell_type": "code",
      "execution_count": null,
      "metadata": {
        "id": "rhxHaPL9Ov9F"
      },
      "outputs": [],
      "source": [
        "import numpy as np\n",
        "from scipy.stats import poisson\n",
        "import matplotlib.pyplot as plt\n",
        "import pandas as pd"
      ]
    },
    {
      "cell_type": "code",
      "source": [
        "#Distribucion de poisson con media 40\n",
        "mu =40\n",
        "r = 2*poisson.rvs(mu, size=100)     #el circuito es en una hora por eso multiplicamos por dos\n",
        "\n",
        "#distribucion uniforme para pasajeros que se trasladan mas de 5km ~U[15, 23]\n",
        "u = np.random.uniform(15, 23, size=100)   #pasajeros que se trasladan mas de 5km\n",
        "u = u.astype(np.int64)\n",
        "n = r-u                                   #pasajeros que se trasladan menos de 5km\n",
        "\n",
        "#calculamos los ingresos\n",
        "i_u= u*8         #ingreso de pasajeros que viajan mas de 5km\n",
        "i_n= n*7         #ingreso de pasajeros que viajan menos de 5km\n",
        "i_t= i_u+i_n"
      ],
      "metadata": {
        "id": "THm-vpnBS-Kl"
      },
      "execution_count": 42,
      "outputs": []
    },
    {
      "cell_type": "code",
      "source": [
        "from typing import Container\n",
        "#Ahora vamos a determinar para 6 circuitos (6 horas) por lo que multiplicamos por 6\n",
        "\n",
        "cir=8\n",
        "r=r*cir\n",
        "n=n*cir\n",
        "u=u*cir\n",
        "i_n=i_n*cir\n",
        "i_u=i_u*cir\n",
        "i_t=i_t*cir\n",
        "\n",
        "df = pd.DataFrame()\n",
        "df['Pasajeros totales']= r\n",
        "df['Menos de 5km']= n\n",
        "df['Mas de 5km']= u\n",
        "df['Pagos de $7']= i_n\n",
        "df['Pagos de $8']= i_u\n",
        "df['Pagos totales']= i_t\n",
        "\n",
        "print(df)"
      ],
      "metadata": {
        "colab": {
          "base_uri": "https://localhost:8080/"
        },
        "id": "YtBXQo5VK2A3",
        "outputId": "a06c8c9a-4fa5-4c25-bd1b-4a76f8827ec7"
      },
      "execution_count": 43,
      "outputs": [
        {
          "output_type": "stream",
          "name": "stdout",
          "text": [
            "    Pasajeros totales  Menos de 5km  Mas de 5km  Pagos de $7  Pagos de $8  \\\n",
            "0                 768           600         168         4200         1344   \n",
            "1                 736           568         168         3976         1344   \n",
            "2                 624           472         152         3304         1216   \n",
            "3                 672           552         120         3864          960   \n",
            "4                 624           496         128         3472         1024   \n",
            "..                ...           ...         ...          ...          ...   \n",
            "95                720           600         120         4200          960   \n",
            "96                544           376         168         2632         1344   \n",
            "97                544           368         176         2576         1408   \n",
            "98                704           568         136         3976         1088   \n",
            "99                464           288         176         2016         1408   \n",
            "\n",
            "    Pagos totales  \n",
            "0            5544  \n",
            "1            5320  \n",
            "2            4520  \n",
            "3            4824  \n",
            "4            4496  \n",
            "..            ...  \n",
            "95           5160  \n",
            "96           3976  \n",
            "97           3984  \n",
            "98           5064  \n",
            "99           3424  \n",
            "\n",
            "[100 rows x 6 columns]\n"
          ]
        }
      ]
    },
    {
      "cell_type": "code",
      "source": [
        "#Los promedios de esta simulacion son:\n",
        "\n",
        "media_r= round(np.mean(r))\n",
        "media_n= round(np.mean(n))\n",
        "media_u= round(np.mean(u))\n",
        "ing_t= media_n*7+media_u*8\n",
        "\n",
        "print('Pasajeros promedio que suben en el lapso de 4 horas son: ', media_r)\n",
        "print('Pasajeros que se trasladan menos de 5km: ',media_n, 'con pago de $7 = ', '$', media_n*7 )\n",
        "print('Pasajeros que se trasladan mas de 5km: ', round(media_u), 'con pago de $8 = ', '$', media_u*8)\n",
        "print('Los ingresos totales son: $',ing_t )"
      ],
      "metadata": {
        "colab": {
          "base_uri": "https://localhost:8080/"
        },
        "id": "Z7Wu_83t7VM1",
        "outputId": "41952fa7-da5e-471b-aa67-dd55f7f5288e"
      },
      "execution_count": 44,
      "outputs": [
        {
          "output_type": "stream",
          "name": "stdout",
          "text": [
            "Pasajeros promedio que suben en el lapso de 4 horas son:  651\n",
            "Pasajeros que se trasladan menos de 5km:  504 con pago de $7 =  $ 3528\n",
            "Pasajeros que se trasladan mas de 5km:  147 con pago de $8 =  $ 1176\n",
            "Los ingresos totales son: $ 4704\n"
          ]
        }
      ]
    },
    {
      "cell_type": "markdown",
      "source": [
        "El precio del diésel lo manejaremos en $24.60 MXN"
      ],
      "metadata": {
        "id": "CNpvUKEfhBh6"
      }
    },
    {
      "cell_type": "code",
      "source": [
        "#Definimos la funcion de la distribucion normal\n",
        "precio_diesel=24.6\n",
        "mu=40\n",
        "sigma=25\n",
        "\n",
        "d=np.random.normal(mu,sigma,100)\n",
        "for i in range (11):\n",
        "  if i>0:\n",
        "    print('Consumo de combustible: ', i, '=', round(d[i],2))\n",
        "  else:\n",
        "    i+=1\n",
        "print('El promedio de la simulacion es = ', round(np.mean(d),2))"
      ],
      "metadata": {
        "colab": {
          "base_uri": "https://localhost:8080/"
        },
        "id": "wjT_4o6fhCr7",
        "outputId": "d1355f30-207f-43f8-e084-79a889a77a99"
      },
      "execution_count": 51,
      "outputs": [
        {
          "output_type": "stream",
          "name": "stdout",
          "text": [
            "Consumo de combustible:  1 = 10.2\n",
            "Consumo de combustible:  2 = 17.18\n",
            "Consumo de combustible:  3 = 41.78\n",
            "Consumo de combustible:  4 = 9.44\n",
            "Consumo de combustible:  5 = 47.72\n",
            "Consumo de combustible:  6 = 49.06\n",
            "Consumo de combustible:  7 = 34.12\n",
            "Consumo de combustible:  8 = 6.43\n",
            "Consumo de combustible:  9 = 69.97\n",
            "Consumo de combustible:  10 = 47.23\n",
            "El promedio de la simulacion es =  39.26\n"
          ]
        }
      ]
    }
  ]
}