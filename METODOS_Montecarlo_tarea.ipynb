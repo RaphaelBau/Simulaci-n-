{
  "nbformat": 4,
  "nbformat_minor": 0,
  "metadata": {
    "colab": {
      "provenance": [],
      "include_colab_link": true
    },
    "kernelspec": {
      "name": "python3",
      "display_name": "Python 3"
    },
    "language_info": {
      "name": "python"
    }
  },
  "cells": [
    {
      "cell_type": "markdown",
      "metadata": {
        "id": "view-in-github",
        "colab_type": "text"
      },
      "source": [
        "<a href=\"https://colab.research.google.com/github/RaphaelBau/Simulaci-n-/blob/main/METODOS_Montecarlo_tarea.ipynb\" target=\"_parent\"><img src=\"https://colab.research.google.com/assets/colab-badge.svg\" alt=\"Open In Colab\"/></a>"
      ]
    },
    {
      "cell_type": "markdown",
      "source": [
        "# Monte Carlo\n",
        "\n",
        "Aquí en este documento se verán cuatro variantes del método de Monte Carlo y se van a comparar con respecto a su varianza para ver cuál es el que tiene la mínima varianza.\n",
        "\n",
        "Para ilustrar el funcionamiento de estos métodos, se resolverá esta integral.\n",
        "\n",
        "$$\\int_{0}^{1}\\dfrac{e^x-1}{e-1}dx$$\n",
        "\n",
        "# Monte Carlo estratificado\n",
        "\n",
        "El siguiente código solo sirve para una variable aleatoria uniforme. $X \\sim U(0,1)$\n",
        "\n",
        "Primero se van a importar las librerías que se van a ocupar para este método."
      ],
      "metadata": {
        "id": "gjtG2xzX545l"
      }
    },
    {
      "cell_type": "code",
      "source": [
        "from math import *\n",
        "from random import random"
      ],
      "metadata": {
        "id": "cBA8bo6M74jn"
      },
      "execution_count": 1,
      "outputs": []
    },
    {
      "cell_type": "markdown",
      "source": [
        "Definimos la función."
      ],
      "metadata": {
        "id": "8ZONp6yN76F2"
      }
    },
    {
      "cell_type": "code",
      "source": [
        "f = lambda x : (exp(x)-1)/(e-1)"
      ],
      "metadata": {
        "id": "QeCl91SB7_Yv"
      },
      "execution_count": 2,
      "outputs": []
    },
    {
      "cell_type": "markdown",
      "source": [
        "$N$ Será la cantidad de números aleatorios que se van a generar y $M$ el número de intervalos en que se va a dividir el intervalo. $[0,1]$"
      ],
      "metadata": {
        "id": "wx6lTclH8Mb2"
      }
    },
    {
      "cell_type": "code",
      "source": [
        "N = 20\n",
        "m = 4"
      ],
      "metadata": {
        "id": "pMn-JtmW8zm8"
      },
      "execution_count": 3,
      "outputs": []
    },
    {
      "cell_type": "markdown",
      "source": [
        "Estos son los U sub k sub i"
      ],
      "metadata": {
        "id": "q4fmWExq9wDH"
      }
    },
    {
      "cell_type": "code",
      "source": [
        "def u(n,m1,N1):\n",
        "\tl = ((1/m1)*random()+n/m1 for i in range(N1))\n",
        "\treturn l"
      ],
      "metadata": {
        "id": "UzFdN4q191es"
      },
      "execution_count": 4,
      "outputs": []
    },
    {
      "cell_type": "markdown",
      "source": [
        "Theta que en este caso se va a definir como estimador."
      ],
      "metadata": {
        "id": "uv865EdF95Va"
      }
    },
    {
      "cell_type": "code",
      "execution_count": 5,
      "metadata": {
        "id": "77yolr1e5xSo"
      },
      "outputs": [],
      "source": [
        "def estimador(m,N):\n",
        "\ts = 0\n",
        "\tfor j in range(m):\n",
        "\t\ts+=sum([f(k) for k in u(j,m,N)])\n",
        "\treturn s/(m*N)"
      ]
    },
    {
      "cell_type": "markdown",
      "source": [
        "Se el resultado estimado y el resultado original."
      ],
      "metadata": {
        "id": "RsejANyA-KGx"
      }
    },
    {
      "cell_type": "code",
      "source": [
        "print(estimador(m,N))\n",
        "print(1-1/(e-1))"
      ],
      "metadata": {
        "colab": {
          "base_uri": "https://localhost:8080/"
        },
        "id": "Uc-EGYzt-C4a",
        "outputId": "7e0070de-c56e-4632-d517-8af96f6d6c73"
      },
      "execution_count": 6,
      "outputs": [
        {
          "output_type": "stream",
          "name": "stdout",
          "text": [
            "0.4251027182443002\n",
            "0.41802329313067355\n"
          ]
        }
      ]
    },
    {
      "cell_type": "markdown",
      "source": [
        "# Monte Carlo muestreo importancia"
      ],
      "metadata": {
        "id": "fGfVepEk86EI"
      }
    },
    {
      "cell_type": "code",
      "source": [
        "from math import exp, e, sin, pi\n",
        "from random import random\n",
        "\n",
        "f = lambda x: (exp(x) - 1) / (e - 1)\n",
        "g = lambda x: sin(x)\n",
        "\n",
        "def estimador(n, a, b):\n",
        "    u = (b - a) * random() + a\n",
        "    l = [(g(u) / f(u)) for _ in range(n)]\n",
        "    valor_esperado = sum(l) / n\n",
        "    varianza = sum((x - valor_esperado) ** 2 for x in l) / n\n",
        "    return valor_esperado, varianza\n",
        "\n",
        "N = 1000000\n",
        "a = 0\n",
        "b = pi / 2\n",
        "\n",
        "valor_esperado, varianza = estimador(N, a, b)\n",
        "print(\"Valor esperado:\", valor_esperado)\n",
        "print(\"Varianza:\", varianza)"
      ],
      "metadata": {
        "colab": {
          "base_uri": "https://localhost:8080/"
        },
        "id": "V_8quq5H2oAf",
        "outputId": "6f3d011f-732c-4594-c578-2cf05d1de59d"
      },
      "execution_count": 7,
      "outputs": [
        {
          "output_type": "stream",
          "name": "stdout",
          "text": [
            "Valor esperado: 0.8028164805217511\n",
            "Varianza: 7.61376108251936e-23\n"
          ]
        }
      ]
    },
    {
      "cell_type": "markdown",
      "source": [
        "# Monte Carlo media muestral\n"
      ],
      "metadata": {
        "id": "UlmhATpC9miv"
      }
    },
    {
      "cell_type": "code",
      "source": [
        "from random import random\n",
        "from math import *\n",
        "\n",
        "f = lambda x : (exp(x)-1)/(e-1)\n",
        "\n",
        "def media_varianza(n):\n",
        "    suma = 0\n",
        "    suma_cuadrados = 0\n",
        "    for i in range(n):\n",
        "        valor = f(random())\n",
        "        suma += valor\n",
        "        suma_cuadrados += valor ** 2\n",
        "\n",
        "\n",
        "    media = suma / n\n",
        "    varianza = (suma_cuadrados / n) - (media ** 2)\n",
        "\n",
        "    return media, varianza\n",
        "\n",
        "n = 100\n",
        "\n",
        "media_resultado, varianza_resultado = media_varianza(n)\n",
        "\n",
        "print(\"Media:\", media_resultado)\n",
        "print(\"Varianza:\", varianza_resultado)"
      ],
      "metadata": {
        "colab": {
          "base_uri": "https://localhost:8080/"
        },
        "id": "oeYPjCl3-eoN",
        "outputId": "cac1bbea-9298-48d8-9f6e-f002da0b9018"
      },
      "execution_count": 8,
      "outputs": [
        {
          "output_type": "stream",
          "name": "stdout",
          "text": [
            "Media: 0.42882193998667034\n",
            "Varianza: 0.08930673859025451\n"
          ]
        }
      ]
    },
    {
      "cell_type": "markdown",
      "source": [
        "# Monte Carlo acierto y error."
      ],
      "metadata": {
        "id": "avnBaELt_Eoa"
      }
    },
    {
      "cell_type": "code",
      "source": [
        "import math\n",
        "import random\n",
        "\n",
        "f = lambda x: (math.exp(x) - 1) / (math.e - 1)\n",
        "\n",
        "def montecarlo_integral(n):\n",
        "    suma = 0\n",
        "    suma_cuadrados = 0\n",
        "\n",
        "    for _ in range(n):\n",
        "        x = random.random()\n",
        "        y = f(x)\n",
        "        suma += y\n",
        "        suma_cuadrados += y ** 2\n",
        "\n",
        "    integral = suma / n\n",
        "    varianza = (suma_cuadrados / n - (suma / n) ** 2) / n\n",
        "\n",
        "    return integral, varianza\n",
        "\n",
        "n = 1000000\n",
        "\n",
        "\n",
        "integral, varianza = montecarlo_integral(n)\n",
        "\n",
        "print(\"Integral calculada:\", integral)\n",
        "print(\"Varianza:\", varianza)"
      ],
      "metadata": {
        "id": "kKFpJkJ4_EXU",
        "colab": {
          "base_uri": "https://localhost:8080/"
        },
        "outputId": "65606c24-4809-4227-f45d-93b909841435"
      },
      "execution_count": 9,
      "outputs": [
        {
          "output_type": "stream",
          "name": "stdout",
          "text": [
            "Integral calculada: 0.41788546511215857\n",
            "Varianza: 8.192748888210077e-08\n"
          ]
        }
      ]
    }
  ]
}