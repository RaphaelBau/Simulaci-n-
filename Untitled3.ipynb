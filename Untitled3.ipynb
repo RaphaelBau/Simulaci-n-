{
  "nbformat": 4,
  "nbformat_minor": 0,
  "metadata": {
    "colab": {
      "provenance": [],
      "authorship_tag": "ABX9TyN8dqfFHtu7/Cmln1LkpZMP",
      "include_colab_link": true
    },
    "kernelspec": {
      "name": "python3",
      "display_name": "Python 3"
    },
    "language_info": {
      "name": "python"
    }
  },
  "cells": [
    {
      "cell_type": "markdown",
      "metadata": {
        "id": "view-in-github",
        "colab_type": "text"
      },
      "source": [
        "<a href=\"https://colab.research.google.com/github/RaphaelBau/Simulaci-n-/blob/main/Untitled3.ipynb\" target=\"_parent\"><img src=\"https://colab.research.google.com/assets/colab-badge.svg\" alt=\"Open In Colab\"/></a>"
      ]
    },
    {
      "cell_type": "code",
      "execution_count": 23,
      "metadata": {
        "colab": {
          "base_uri": "https://localhost:8080/"
        },
        "id": "-DPeSK3UE9y8",
        "outputId": "60d68a58-1127-46e3-8400-91a9556c131a"
      },
      "outputs": [
        {
          "output_type": "stream",
          "name": "stdout",
          "text": [
            "[1, -1, 1, -1, 0]\n",
            "[0.125, 0.125, 0.125, 0.125, 0.0]\n",
            "0.5\n",
            "p value es 0.5\n",
            "Es Independiente (Se acepta H0)\n"
          ]
        }
      ],
      "source": [
        "O= [9, 7, 9, 7, 8]\n",
        "E= [8, 8, 8, 8, 8]\n",
        "s = []\n",
        "t = []\n",
        "\n",
        "def sumaListas(a,b):\n",
        "    for i in range(len(a)):\n",
        "        s.append(a[i]-b[i])\n",
        "    return s\n",
        "\n",
        "def cuadrado(c, d):\n",
        "  for j in range(len(c)):\n",
        "      t.append((c[j]*c[j])/d[j])\n",
        "  return t\n",
        "\n",
        "x =sumaListas(O, E)\n",
        "print(x)\n",
        "y =cuadrado(x,E)\n",
        "print(y)\n",
        "p= sum(y)\n",
        "print(value)\n",
        "\n",
        "df= 3\n",
        "# interpretacion de z\n",
        "#para una aceptacion del 95%\n",
        "z = 0.711\n",
        "print(\"p value es \" + str(p))\n",
        "if p >= z:\n",
        "    print('Es Dependiente (Se rechaza H0)')\n",
        "else:\n",
        "    print('Es Independiente (Se acepta H0)')"
      ]
    }
  ]
}