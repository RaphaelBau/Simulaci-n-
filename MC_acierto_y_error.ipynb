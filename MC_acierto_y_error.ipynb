{
  "cells": [
    {
      "cell_type": "markdown",
      "metadata": {
        "id": "view-in-github",
        "colab_type": "text"
      },
      "source": [
        "<a href=\"https://colab.research.google.com/github/RaphaelBau/Simulaci-n-/blob/main/MC_acierto_y_error.ipynb\" target=\"_parent\"><img src=\"https://colab.research.google.com/assets/colab-badge.svg\" alt=\"Open In Colab\"/></a>"
      ]
    },
    {
      "cell_type": "markdown",
      "id": "a5cc0a87",
      "metadata": {
        "id": "a5cc0a87"
      },
      "source": [
        "# Metodo de Monte Carlo acierto y error\n"
      ]
    },
    {
      "cell_type": "markdown",
      "id": "fbbc8571",
      "metadata": {
        "id": "fbbc8571"
      },
      "source": [
        "**PASO 1**. Genere una secuencia $\\{U_j\\}_{j=1}^{2N}$ de $2N$ números aleatorios."
      ]
    },
    {
      "cell_type": "code",
      "execution_count": 1,
      "id": "37c5f31c",
      "metadata": {
        "id": "37c5f31c",
        "colab": {
          "base_uri": "https://localhost:8080/"
        },
        "outputId": "62f6e21e-6b39-44dd-e7fc-08b1dd6b232c"
      },
      "outputs": [
        {
          "output_type": "stream",
          "name": "stdout",
          "text": [
            "(0.668654991236803, 0.4114068565923683)\n",
            "(0.21553861847931344, 0.8426310892071792)\n",
            "(0.601697852165025, 0.34516796259083005)\n",
            "(0.055948654909640516, 0.4366352967682472)\n",
            "(0.7212145161029065, 0.871392717721819)\n",
            "(0.9103862704213355, 0.3177078437701194)\n",
            "(0.13592445856435242, 0.04740372020458694)\n",
            "(0.7875961277516386, 0.8379812373720599)\n",
            "(0.07978340716567611, 0.24203846998547607)\n",
            "(0.8778524553754218, 0.4399224599371898)\n"
          ]
        }
      ],
      "source": [
        "from random import random\n",
        "\n",
        "\"\"\"\n",
        "  Esta funcion genera un par de numeros aleatorios con distribucion uniforme\n",
        "  con a=0 y b=1\n",
        "\"\"\"\n",
        "def uniforme():\n",
        "  return (random(),random())\n",
        "\n",
        "# Pequeña prueba del codigo\n",
        "\n",
        "for i in range(10):\n",
        "  print(uniforme())\n"
      ]
    },
    {
      "cell_type": "markdown",
      "id": "4d3899f3",
      "metadata": {
        "id": "4d3899f3"
      },
      "source": [
        "**PASO 2**. Organice los números aleatorios en $N$ pares $(U_1,U_1^´),(U_2,U_2^´),...,(U_N,U_N^´)$ de cualquier forma tal que cada número aleatorio $U_j$ se use exactamente una vez."
      ]
    },
    {
      "cell_type": "code",
      "source": [
        "N = 5 #por ejemplo\n",
        "\n",
        "def lista(n):\n",
        "  l = []\n",
        "  for n in range(n):\n",
        "    l.append(uniforme())\n",
        "  return l\n",
        "\n",
        "print(lista(N))"
      ],
      "metadata": {
        "colab": {
          "base_uri": "https://localhost:8080/"
        },
        "id": "qTz9vvztulyM",
        "outputId": "bb77442e-82eb-4882-9133-34bc1367dbb4"
      },
      "id": "qTz9vvztulyM",
      "execution_count": null,
      "outputs": [
        {
          "output_type": "stream",
          "name": "stdout",
          "text": [
            "[(0.03229396177370758, 0.6159661864984769), (0.07502807883035334, 0.15966375888028594), (0.4764136163302014, 0.8904559087302765), (0.8202304655965117, 0.2652627256884761), (0.3612071457517312, 0.9620985495682173)]\n"
          ]
        }
      ]
    },
    {
      "cell_type": "markdown",
      "id": "fd02116a",
      "metadata": {
        "id": "fd02116a"
      },
      "source": [
        "**PASO 3**. Calcule $X_i=a+U_i(b-a)\\hspace{0.5cm}$ y $\\hspace{0.5cm}g(X_i) , \\hspace{0.5cm}i=1,2,...,N$"
      ]
    },
    {
      "cell_type": "code",
      "source": [
        "X = lambda a,b,u: a+u[0]*(b-a)\n",
        "\n",
        "a = 0\n",
        "b = 1\n",
        "\n",
        "v = lista(N)\n",
        "\n",
        "# pequeña prueba del codigo\n",
        "for j in v:\n",
        "  print(X(a,b,j))\n"
      ],
      "metadata": {
        "colab": {
          "base_uri": "https://localhost:8080/"
        },
        "id": "57XxjBTwx3NS",
        "outputId": "a36445dc-bfb1-4161-fa9f-0c6b90963186"
      },
      "id": "57XxjBTwx3NS",
      "execution_count": null,
      "outputs": [
        {
          "output_type": "stream",
          "name": "stdout",
          "text": [
            "0.008437974953767524\n",
            "0.00860241202319667\n",
            "0.014738186677825338\n",
            "0.8190155369654835\n",
            "0.9388117366640089\n"
          ]
        }
      ]
    },
    {
      "cell_type": "markdown",
      "source": [
        "A modo de ejemplo se va a utilizar la función $g(x)=-x^2+x$"
      ],
      "metadata": {
        "id": "o9WFuM_o1_Ge"
      },
      "id": "o9WFuM_o1_Ge"
    },
    {
      "cell_type": "code",
      "source": [
        "import numpy as np\n",
        "\n",
        "g = np.poly1d([-1,1,0])\n",
        "\n",
        "for j in lista(N):\n",
        "  print(X(a,b,j),g(X(a,b,j)))\n"
      ],
      "metadata": {
        "colab": {
          "base_uri": "https://localhost:8080/"
        },
        "id": "JzkNfgFU0ErV",
        "outputId": "7d75e810-a5d4-4a3f-df25-375b958713af"
      },
      "id": "JzkNfgFU0ErV",
      "execution_count": null,
      "outputs": [
        {
          "output_type": "stream",
          "name": "stdout",
          "text": [
            "0.6428028407782969 0.2296073486656484\n",
            "0.7068613458395969 0.20720838359743068\n",
            "0.7113401599356974 0.20533533679835383\n",
            "0.7844746117982029 0.16907419524226178\n",
            "0.1755434293264877 0.1447279337467841\n"
          ]
        }
      ]
    },
    {
      "cell_type": "markdown",
      "source": [
        "Grafica de la función"
      ],
      "metadata": {
        "id": "4qge3X7O4nie"
      },
      "id": "4qge3X7O4nie"
    },
    {
      "cell_type": "code",
      "source": [
        "import matplotlib.pyplot as plt\n",
        "\n",
        "fig,ax=plt.subplots()\n",
        "\n",
        "x = []\n",
        "for i in lista(N):\n",
        "  x.append(i[0])\n",
        "\n",
        "y = list(map(g ,x))\n",
        "\n",
        "x1 = np.arange(a,b,0.001)\n",
        "\n",
        "plt.title('Grafica')\n",
        "plt.xlabel('x')\n",
        "plt.ylabel('y')\n",
        "plt.plot(x1,g(x1),color=\"purple\",label=\"$g(x)$\")\n",
        "plt.plot(x,y,\"o\")\n",
        "plt.legend(loc='upper right')\n",
        "plt.axis('equal')\n",
        "plt.grid()\n",
        "plt.show()"
      ],
      "metadata": {
        "colab": {
          "base_uri": "https://localhost:8080/",
          "height": 472
        },
        "id": "763cmUNu4sWw",
        "outputId": "ee16291f-f4d4-43cd-edfd-954197864c6c"
      },
      "id": "763cmUNu4sWw",
      "execution_count": null,
      "outputs": [
        {
          "output_type": "display_data",
          "data": {
            "text/plain": [
              "<Figure size 640x480 with 1 Axes>"
            ],
            "image/png": "[encoded data removed]"
          },
          "metadata": {}
        }
      ]
    },
    {
      "cell_type": "markdown",
      "id": "4852dcac",
      "metadata": {
        "id": "4852dcac"
      },
      "source": [
        "**PASO 4**. Cuente el número de casos $N_H$ para los cuales $g(X_i)>cU_i^{'}$"
      ]
    },
    {
      "cell_type": "code",
      "source": [
        "c = 5\n",
        "\n",
        "def NH(a,b,f,l):\n",
        "  n = 0\n",
        "  for i in l:\n",
        "    if f(X(a,b,i))>c*i[1]:\n",
        "      n+=1\n",
        "  return n\n",
        "print(NH(a,b,g,lista(N)))"
      ],
      "metadata": {
        "colab": {
          "base_uri": "https://localhost:8080/"
        },
        "id": "jQ3bBKDnDJ6g",
        "outputId": "eed6992c-0987-4699-fbf6-39e52e3a71ce"
      },
      "id": "jQ3bBKDnDJ6g",
      "execution_count": null,
      "outputs": [
        {
          "output_type": "stream",
          "name": "stdout",
          "text": [
            "0\n"
          ]
        }
      ]
    },
    {
      "cell_type": "markdown",
      "id": "edb6b074",
      "metadata": {
        "id": "edb6b074"
      },
      "source": [
        "**PASO 5**. Estime la integral $I$ por $\\theta_1=c(b-a)\\dfrac{N_H}{N}$"
      ]
    },
    {
      "cell_type": "code",
      "execution_count": null,
      "id": "7d56c432",
      "metadata": {
        "id": "7d56c432",
        "colab": {
          "base_uri": "https://localhost:8080/"
        },
        "outputId": "01dd07c5-8cc9-4c96-e945-5c159692df06"
      },
      "outputs": [
        {
          "output_type": "stream",
          "name": "stdout",
          "text": [
            "0.0\n"
          ]
        }
      ],
      "source": [
        "def I(a,b,c,n,f):\n",
        "  n2=0\n",
        "  for i in lista(n):\n",
        "    if f(X(a,b,i))>c*i[1]:\n",
        "      n2+=1\n",
        "  return c*(b-a)*(n2/n)\n",
        "\n",
        "print(I(a,b,c,N,g))"
      ]
    },
    {
      "cell_type": "markdown",
      "id": "f38f3396",
      "metadata": {
        "id": "f38f3396"
      },
      "source": [
        "Use el método de Acierto y Error para estimar las integrales:\n",
        "\n",
        "$$(a) \\int_{0}^{1}e^{e^x}dx$$\n",
        "$$(b) \\int_0^1\\sqrt{(1-x^2)^3}dx$$"
      ]
    },
    {
      "cell_type": "markdown",
      "source": [
        "Para la primer integral se tiene el siguiente resultado si $a=0,b=1,c=100$ y $N=500000$"
      ],
      "metadata": {
        "id": "ojYcw0XEwtFi"
      },
      "id": "ojYcw0XEwtFi"
    },
    {
      "cell_type": "code",
      "source": [
        "from math import exp\n",
        "\n",
        "def I(a,b,c,n,f):\n",
        "  n2=0\n",
        "  for i in lista(n):\n",
        "    if f(X(a,b,i))>c*i[1]:\n",
        "      n2+=1\n",
        "  return c*(b-a)*(n2/n)\n",
        "\n",
        "g1 = lambda x: exp(exp(x)) # funcion del inciso (a)\n",
        "\n",
        "print(\"I = {0}\".format(I(0,1,100,500000,g1)))"
      ],
      "metadata": {
        "colab": {
          "base_uri": "https://localhost:8080/"
        },
        "id": "cPmM4wmrLhtI",
        "outputId": "d63a7b06-7bd0-4d41-d062-132727aa22e1"
      },
      "id": "cPmM4wmrLhtI",
      "execution_count": null,
      "outputs": [
        {
          "output_type": "stream",
          "name": "stdout",
          "text": [
            "I = 6.371200000000001\n"
          ]
        }
      ]
    },
    {
      "cell_type": "code",
      "source": [
        "import matplotlib.pyplot as plt\n",
        "import numpy as np\n",
        "\n",
        "fig,ax=plt.subplots()\n",
        "\n",
        "x = np.arange(1,300,1)\n",
        "y = []\n",
        "for i in range(len(x)):\n",
        "  y.append(I(0,1,100,x[i],g1))\n",
        "\n",
        "plt.title('Grafica')\n",
        "plt.xlabel('$N$')\n",
        "plt.ylabel('$I(N)$')\n",
        "plt.plot(x,y)\n",
        "plt.axis('equal')\n",
        "plt.show()"
      ],
      "metadata": {
        "colab": {
          "base_uri": "https://localhost:8080/",
          "height": 472
        },
        "id": "Ew1vhPcZsjK9",
        "outputId": "b977912d-9622-44c6-812f-78c04b052d56"
      },
      "id": "Ew1vhPcZsjK9",
      "execution_count": null,
      "outputs": [
        {
          "output_type": "display_data",
          "data": {
            "text/plain": [
              "<Figure size 640x480 with 1 Axes>"
            ],
            "image/png": "[encoded data removed]"
          },
          "metadata": {}
        }
      ]
    },
    {
      "cell_type": "markdown",
      "source": [
        "Para la segunda integral se tiene el siguinete resultado si $a=0,b=1,c=100$ y $N=500000$"
      ],
      "metadata": {
        "id": "_9hb--5Pwq06"
      },
      "id": "_9hb--5Pwq06"
    },
    {
      "cell_type": "code",
      "source": [
        "from math import sqrt\n",
        "\n",
        "def I(a,b,c,n,f):\n",
        "  n2=0\n",
        "  for i in lista(n):\n",
        "    if f(X(a,b,i))>c*i[1]:\n",
        "      n2+=1\n",
        "  return c*(b-a)*(n2/n)\n",
        "\n",
        "g2 = lambda x: sqrt((1-x**2)**3) # funcion del inciso (b)\n",
        "\n",
        "print(\"I = {0}\".format(I(0,1,100,500000,g2)))"
      ],
      "metadata": {
        "id": "Vfk45cYSxWIN",
        "outputId": "20403582-4804-4036-cdbd-7b7d00920cfc",
        "colab": {
          "base_uri": "https://localhost:8080/"
        }
      },
      "id": "Vfk45cYSxWIN",
      "execution_count": null,
      "outputs": [
        {
          "output_type": "stream",
          "name": "stdout",
          "text": [
            "I = 0.5760000000000001\n"
          ]
        }
      ]
    }
  ],
  "metadata": {
    "kernelspec": {
      "display_name": "Python 3 (ipykernel)",
      "language": "python",
      "name": "python3"
    },
    "language_info": {
      "codemirror_mode": {
        "name": "ipython",
        "version": 3
      },
      "file_extension": ".py",
      "mimetype": "text/x-python",
      "name": "python",
      "nbconvert_exporter": "python",
      "pygments_lexer": "ipython3",
      "version": "3.7.3"
    },
    "colab": {
      "provenance": [],
      "include_colab_link": true
    }
  },
  "nbformat": 4,
  "nbformat_minor": 5
}